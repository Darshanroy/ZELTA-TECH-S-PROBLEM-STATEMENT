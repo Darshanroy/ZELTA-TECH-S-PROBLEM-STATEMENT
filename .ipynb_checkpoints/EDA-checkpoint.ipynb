{
 "cells": [
  {
   "cell_type": "code",
   "execution_count": 2,
   "id": "e348f17c",
   "metadata": {},
   "outputs": [],
   "source": [
    "import pandas as pd\n",
    "import numpy as np "
   ]
  },
  {
   "cell_type": "code",
   "execution_count": 18,
   "id": "d2f2ce23",
   "metadata": {},
   "outputs": [],
   "source": [
    "data = pd.read_csv('data folder/BTC-USD DAILY.csv')"
   ]
  },
  {
   "cell_type": "code",
   "execution_count": 19,
   "id": "5d8e9f4a",
   "metadata": {},
   "outputs": [
    {
     "data": {
      "text/html": [
       "<div>\n",
       "<style scoped>\n",
       "    .dataframe tbody tr th:only-of-type {\n",
       "        vertical-align: middle;\n",
       "    }\n",
       "\n",
       "    .dataframe tbody tr th {\n",
       "        vertical-align: top;\n",
       "    }\n",
       "\n",
       "    .dataframe thead th {\n",
       "        text-align: right;\n",
       "    }\n",
       "</style>\n",
       "<table border=\"1\" class=\"dataframe\">\n",
       "  <thead>\n",
       "    <tr style=\"text-align: right;\">\n",
       "      <th></th>\n",
       "      <th>Date</th>\n",
       "      <th>Open</th>\n",
       "      <th>High</th>\n",
       "      <th>Low</th>\n",
       "      <th>Close</th>\n",
       "      <th>Adj Close</th>\n",
       "      <th>Volume</th>\n",
       "    </tr>\n",
       "  </thead>\n",
       "  <tbody>\n",
       "    <tr>\n",
       "      <th>0</th>\n",
       "      <td>2018-01-01</td>\n",
       "      <td>14112.200195</td>\n",
       "      <td>14112.200195</td>\n",
       "      <td>13154.700195</td>\n",
       "      <td>13657.200195</td>\n",
       "      <td>13657.200195</td>\n",
       "      <td>10291200000</td>\n",
       "    </tr>\n",
       "    <tr>\n",
       "      <th>1</th>\n",
       "      <td>2018-01-02</td>\n",
       "      <td>13625.000000</td>\n",
       "      <td>15444.599609</td>\n",
       "      <td>13163.599609</td>\n",
       "      <td>14982.099609</td>\n",
       "      <td>14982.099609</td>\n",
       "      <td>16846600192</td>\n",
       "    </tr>\n",
       "    <tr>\n",
       "      <th>2</th>\n",
       "      <td>2018-01-03</td>\n",
       "      <td>14978.200195</td>\n",
       "      <td>15572.799805</td>\n",
       "      <td>14844.500000</td>\n",
       "      <td>15201.000000</td>\n",
       "      <td>15201.000000</td>\n",
       "      <td>16871900160</td>\n",
       "    </tr>\n",
       "    <tr>\n",
       "      <th>3</th>\n",
       "      <td>2018-01-04</td>\n",
       "      <td>15270.700195</td>\n",
       "      <td>15739.700195</td>\n",
       "      <td>14522.200195</td>\n",
       "      <td>15599.200195</td>\n",
       "      <td>15599.200195</td>\n",
       "      <td>21783199744</td>\n",
       "    </tr>\n",
       "    <tr>\n",
       "      <th>4</th>\n",
       "      <td>2018-01-05</td>\n",
       "      <td>15477.200195</td>\n",
       "      <td>17705.199219</td>\n",
       "      <td>15202.799805</td>\n",
       "      <td>17429.500000</td>\n",
       "      <td>17429.500000</td>\n",
       "      <td>23840899072</td>\n",
       "    </tr>\n",
       "  </tbody>\n",
       "</table>\n",
       "</div>"
      ],
      "text/plain": [
       "         Date          Open          High           Low         Close  \\\n",
       "0  2018-01-01  14112.200195  14112.200195  13154.700195  13657.200195   \n",
       "1  2018-01-02  13625.000000  15444.599609  13163.599609  14982.099609   \n",
       "2  2018-01-03  14978.200195  15572.799805  14844.500000  15201.000000   \n",
       "3  2018-01-04  15270.700195  15739.700195  14522.200195  15599.200195   \n",
       "4  2018-01-05  15477.200195  17705.199219  15202.799805  17429.500000   \n",
       "\n",
       "      Adj Close       Volume  \n",
       "0  13657.200195  10291200000  \n",
       "1  14982.099609  16846600192  \n",
       "2  15201.000000  16871900160  \n",
       "3  15599.200195  21783199744  \n",
       "4  17429.500000  23840899072  "
      ]
     },
     "execution_count": 19,
     "metadata": {},
     "output_type": "execute_result"
    }
   ],
   "source": [
    "data.head()"
   ]
  },
  {
   "cell_type": "code",
   "execution_count": 10,
   "id": "16102416",
   "metadata": {},
   "outputs": [
    {
     "name": "stdout",
     "output_type": "stream",
     "text": [
      "<class 'pandas.core.frame.DataFrame'>\n",
      "RangeIndex: 1359 entries, 0 to 1358\n",
      "Data columns (total 6 columns):\n",
      " #   Column    Non-Null Count  Dtype \n",
      "---  ------    --------------  ----- \n",
      " 0   Date      1359 non-null   object\n",
      " 1   Price     1359 non-null   object\n",
      " 2   Open      1359 non-null   object\n",
      " 3   High      1359 non-null   object\n",
      " 4   Low       1359 non-null   object\n",
      " 5   Change %  1359 non-null   object\n",
      "dtypes: object(6)\n",
      "memory usage: 63.8+ KB\n"
     ]
    }
   ],
   "source": [
    "data.info()"
   ]
  },
  {
   "cell_type": "code",
   "execution_count": 11,
   "id": "bb850dbb",
   "metadata": {},
   "outputs": [
    {
     "data": {
      "text/plain": [
       "Date        0\n",
       "Price       0\n",
       "Open        0\n",
       "High        0\n",
       "Low         0\n",
       "Change %    0\n",
       "dtype: int64"
      ]
     },
     "execution_count": 11,
     "metadata": {},
     "output_type": "execute_result"
    }
   ],
   "source": [
    "data.isnull().sum()"
   ]
  },
  {
   "cell_type": "code",
   "execution_count": 20,
   "id": "b348885e",
   "metadata": {},
   "outputs": [],
   "source": [
    "# convert the Date column into timeseries data\n",
    "\n",
    "data['Date'] = pd.to_datetime(data['Date'])"
   ]
  },
  {
   "cell_type": "code",
   "execution_count": 21,
   "id": "cc99e632",
   "metadata": {},
   "outputs": [
    {
     "data": {
      "text/html": [
       "<div>\n",
       "<style scoped>\n",
       "    .dataframe tbody tr th:only-of-type {\n",
       "        vertical-align: middle;\n",
       "    }\n",
       "\n",
       "    .dataframe tbody tr th {\n",
       "        vertical-align: top;\n",
       "    }\n",
       "\n",
       "    .dataframe thead th {\n",
       "        text-align: right;\n",
       "    }\n",
       "</style>\n",
       "<table border=\"1\" class=\"dataframe\">\n",
       "  <thead>\n",
       "    <tr style=\"text-align: right;\">\n",
       "      <th></th>\n",
       "      <th>Date</th>\n",
       "      <th>Open</th>\n",
       "      <th>High</th>\n",
       "      <th>Low</th>\n",
       "      <th>Close</th>\n",
       "      <th>Adj Close</th>\n",
       "      <th>Volume</th>\n",
       "    </tr>\n",
       "  </thead>\n",
       "  <tbody>\n",
       "    <tr>\n",
       "      <th>count</th>\n",
       "      <td>1492</td>\n",
       "      <td>1492.000000</td>\n",
       "      <td>1492.000000</td>\n",
       "      <td>1492.000000</td>\n",
       "      <td>1492.000000</td>\n",
       "      <td>1492.000000</td>\n",
       "      <td>1.492000e+03</td>\n",
       "    </tr>\n",
       "    <tr>\n",
       "      <th>mean</th>\n",
       "      <td>2020-01-16 12:00:00</td>\n",
       "      <td>18834.412309</td>\n",
       "      <td>19328.141889</td>\n",
       "      <td>18277.369294</td>\n",
       "      <td>18847.704874</td>\n",
       "      <td>18847.704874</td>\n",
       "      <td>2.583255e+10</td>\n",
       "    </tr>\n",
       "    <tr>\n",
       "      <th>min</th>\n",
       "      <td>2018-01-01 00:00:00</td>\n",
       "      <td>3236.274658</td>\n",
       "      <td>3275.377930</td>\n",
       "      <td>3191.303467</td>\n",
       "      <td>3236.761719</td>\n",
       "      <td>3236.761719</td>\n",
       "      <td>2.923670e+09</td>\n",
       "    </tr>\n",
       "    <tr>\n",
       "      <th>25%</th>\n",
       "      <td>2019-01-08 18:00:00</td>\n",
       "      <td>7184.975952</td>\n",
       "      <td>7320.137085</td>\n",
       "      <td>6939.701782</td>\n",
       "      <td>7186.172241</td>\n",
       "      <td>7186.172241</td>\n",
       "      <td>8.475918e+09</td>\n",
       "    </tr>\n",
       "    <tr>\n",
       "      <th>50%</th>\n",
       "      <td>2020-01-16 12:00:00</td>\n",
       "      <td>9543.832032</td>\n",
       "      <td>9717.452148</td>\n",
       "      <td>9358.137695</td>\n",
       "      <td>9544.869629</td>\n",
       "      <td>9544.869629</td>\n",
       "      <td>2.247845e+10</td>\n",
       "    </tr>\n",
       "    <tr>\n",
       "      <th>75%</th>\n",
       "      <td>2021-01-23 06:00:00</td>\n",
       "      <td>32745.621582</td>\n",
       "      <td>33915.827149</td>\n",
       "      <td>31244.488770</td>\n",
       "      <td>32792.104492</td>\n",
       "      <td>32792.104492</td>\n",
       "      <td>3.620490e+10</td>\n",
       "    </tr>\n",
       "    <tr>\n",
       "      <th>max</th>\n",
       "      <td>2022-01-31 00:00:00</td>\n",
       "      <td>67549.734375</td>\n",
       "      <td>68789.625000</td>\n",
       "      <td>66382.062500</td>\n",
       "      <td>67566.828125</td>\n",
       "      <td>67566.828125</td>\n",
       "      <td>3.509679e+11</td>\n",
       "    </tr>\n",
       "    <tr>\n",
       "      <th>std</th>\n",
       "      <td>NaN</td>\n",
       "      <td>17877.430021</td>\n",
       "      <td>18363.563384</td>\n",
       "      <td>17309.553030</td>\n",
       "      <td>17878.523772</td>\n",
       "      <td>17878.523772</td>\n",
       "      <td>2.103589e+10</td>\n",
       "    </tr>\n",
       "  </tbody>\n",
       "</table>\n",
       "</div>"
      ],
      "text/plain": [
       "                      Date          Open          High           Low  \\\n",
       "count                 1492   1492.000000   1492.000000   1492.000000   \n",
       "mean   2020-01-16 12:00:00  18834.412309  19328.141889  18277.369294   \n",
       "min    2018-01-01 00:00:00   3236.274658   3275.377930   3191.303467   \n",
       "25%    2019-01-08 18:00:00   7184.975952   7320.137085   6939.701782   \n",
       "50%    2020-01-16 12:00:00   9543.832032   9717.452148   9358.137695   \n",
       "75%    2021-01-23 06:00:00  32745.621582  33915.827149  31244.488770   \n",
       "max    2022-01-31 00:00:00  67549.734375  68789.625000  66382.062500   \n",
       "std                    NaN  17877.430021  18363.563384  17309.553030   \n",
       "\n",
       "              Close     Adj Close        Volume  \n",
       "count   1492.000000   1492.000000  1.492000e+03  \n",
       "mean   18847.704874  18847.704874  2.583255e+10  \n",
       "min     3236.761719   3236.761719  2.923670e+09  \n",
       "25%     7186.172241   7186.172241  8.475918e+09  \n",
       "50%     9544.869629   9544.869629  2.247845e+10  \n",
       "75%    32792.104492  32792.104492  3.620490e+10  \n",
       "max    67566.828125  67566.828125  3.509679e+11  \n",
       "std    17878.523772  17878.523772  2.103589e+10  "
      ]
     },
     "execution_count": 21,
     "metadata": {},
     "output_type": "execute_result"
    }
   ],
   "source": [
    "data.describe()"
   ]
  },
  {
   "cell_type": "code",
   "execution_count": 26,
   "id": "6a314a7c",
   "metadata": {},
   "outputs": [],
   "source": [
    "data.set_index(data['Date'],inplace=True) #setting the timeseiers column as Index"
   ]
  },
  {
   "cell_type": "code",
   "execution_count": 30,
   "id": "01a6682e",
   "metadata": {},
   "outputs": [],
   "source": [
    "data.drop('Date',inplace=True,axis=1)"
   ]
  },
  {
   "cell_type": "code",
   "execution_count": 32,
   "id": "fe966a09",
   "metadata": {},
   "outputs": [
    {
     "data": {
      "text/plain": [
       "<Axes: xlabel='Date'>"
      ]
     },
     "execution_count": 32,
     "metadata": {},
     "output_type": "execute_result"
    },
    {
     "data": {
      "image/png": "[encoded data removed]",
      "text/plain": [
       "<Figure size 640x480 with 1 Axes>"
      ]
     },
     "metadata": {},
     "output_type": "display_data"
    }
   ],
   "source": []
  },
  {
   "cell_type": "code",
   "execution_count": null,
   "id": "1ae022fb",
   "metadata": {},
   "outputs": [],
   "source": []
  }
 ],
 "metadata": {
  "kernelspec": {
   "display_name": "Python 3 (ipykernel)",
   "language": "python",
   "name": "python3"
  },
  "language_info": {
   "codemirror_mode": {
    "name": "ipython",
    "version": 3
   },
   "file_extension": ".py",
   "mimetype": "text/x-python",
   "name": "python",
   "nbconvert_exporter": "python",
   "pygments_lexer": "ipython3",
   "version": "3.11.4"
  }
 },
 "nbformat": 4,
 "nbformat_minor": 5
}
