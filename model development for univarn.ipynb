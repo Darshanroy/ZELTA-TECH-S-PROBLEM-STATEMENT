{
 "cells": [
  {
   "cell_type": "markdown",
   "id": "bcf7a112",
   "metadata": {},
   "source": [
    "# Data Sets and Noble Suggestions:\n",
    "- Teams are provided with specific data sets and noble suggestions to address these challenges:\n",
    "### 1. Training, Validation, and Test Data (Jan 1, 2018, to Jan 31,2022) \n",
    "- Teams should use this period for training, validation, and testing their models.\n",
    "\n",
    "### 2. Out-of-Sample 1 (Feb 1, 2022, to Dec 31, 2022)\n",
    "- A separate dataset is provided for teams to assess their model's performance in an out-of-sample scenario.\n",
    "\n",
    "### 3. Out-of-Sample 2 (Jan 1, 2023, to Dec 31, 2023)\n",
    "- Another dataset is supplied for teams to evaluate their model's generalization capabilities further."
   ]
  },
  {
   "cell_type": "code",
   "execution_count": 76,
   "id": "24480824",
   "metadata": {},
   "outputs": [],
   "source": [
    "import numpy as np\n",
    "import pandas as pd\n",
    "import matplotlib.pyplot as plt\n",
    "from sklearn.preprocessing import MinMaxScaler\n",
    "from tensorflow.keras.models import Sequential\n",
    "from tensorflow.keras.layers import LSTM, Dense\n",
    "from sklearn.metrics import mean_squared_error"
   ]
  },
  {
   "cell_type": "code",
   "execution_count": 77,
   "id": "dca5c5be",
   "metadata": {},
   "outputs": [],
   "source": [
    "data = pd.read_csv('data folder/Satatinoary_data.csv')"
   ]
  },
  {
   "cell_type": "code",
   "execution_count": 78,
   "id": "d6dfa2bc",
   "metadata": {},
   "outputs": [],
   "source": [
    "data = data.set_index('Date')"
   ]
  },
  {
   "cell_type": "markdown",
   "id": "ea0230ba",
   "metadata": {},
   "source": [
    "# Splitting the data Data"
   ]
  },
  {
   "cell_type": "code",
   "execution_count": 79,
   "id": "b7dd49b0",
   "metadata": {},
   "outputs": [],
   "source": [
    "# Determine the sizes for train, validation, and test sets\n",
    "train_size = int(0.6 * len(data))  # 60% for training\n",
    "val_size = int(0.2 * len(data))    # 20% for validation\n",
    "test_size = len(data) - train_size - val_size  # Remaining for testing\n",
    "\n",
    "# Split the data into train, validation, and test sets\n",
    "train_data = scaled_data[:train_size]\n",
    "val_data = scaled_data[train_size:train_size + val_size]\n",
    "test_data = scaled_data[train_size + val_size:]"
   ]
  },
  {
   "cell_type": "markdown",
   "id": "93646ef3",
   "metadata": {},
   "source": [
    "# ARIMA "
   ]
  },
  {
   "cell_type": "markdown",
   "id": "c568873b",
   "metadata": {},
   "source": [
    " The SARIMAX model is a time series model that is used to forecast future values of a time series. The model is an acronym for Seasonal Autoregressive Integrated Moving Average with eXogenous regressors.\n",
    "\n",
    "The model is composed of three main components:\n",
    "\n",
    "* The autoregressive (AR) component models the relationship between the current value of the time series and its past values.\n",
    "* The integrated (I) component models the trend in the time series.\n",
    "* The moving average (MA) component models the relationship between the current value of the time series and its past errors.\n",
    "\n",
    "The SARIMAX model can be used to forecast future values of a time series by using the following steps:\n",
    "\n",
    "* The model is first fit to the historical data.\n",
    "* The model is then used to forecast future values of the time series.\n",
    "* The forecasts are then evaluated to assess their accuracy.\n",
    "\n",
    "The SARIMAX model is a powerful tool that can be used to forecast future values of a time series. The model is relatively easy to fit and can be used to forecast a wide variety of time series.\n",
    "\n",
    "Here is a more detailed explanation of each of the terms in the SARIMAX model:\n",
    "\n",
    "* **Autoregressive (AR)**: The AR component of the SARIMAX model models the relationship between the current value of the time series and its past values. The AR component is represented by the following equation:\n",
    "\n",
    "```\n",
    "y_t = c + ∑ β_i y_t-i + ε_t\n",
    "```\n",
    "\n",
    "where:\n",
    "\n",
    "* y_t is the current value of the time series\n",
    "* c is a constant\n",
    "* β_i is the coefficient of the ith past value of the time series\n",
    "* ε_t is the error term\n",
    "\n",
    "The AR component of the SARIMAX model can be used to capture the trend in the time series. The AR component can also be used to model the seasonality in the time series.\n",
    "\n",
    "* **Integrated (I)**: The I component of the SARIMAX model models the trend in the time series. The I component is represented by the following equation:\n",
    "\n",
    "```\n",
    "y_t = y_t-1 + ε_t\n",
    "```\n",
    "\n",
    "where:\n",
    "\n",
    "* y_t is the current value of the time series\n",
    "* y_t-1 is the previous value of the time series\n",
    "* ε_t is the error term\n",
    "\n",
    "The I component of the SARIMAX model can be used to remove the trend from the time series. The I component can also be used to make the time series stationary.\n",
    "\n",
    "* **Moving average (MA)**: The MA component of the SARIMAX model models the relationship between the current value of the time series and its past errors. The MA component is represented by the following equation:\n",
    "\n",
    "```\n",
    "y_t = c + ∑ θ_i ε_t-i + ε_t\n",
    "```\n",
    "\n",
    "where:\n",
    "\n",
    "* y_t is the current value of the time series\n",
    "* c is a constant\n",
    "* θ_i is the coefficient of the ith past error\n",
    "* ε_t is the error term\n",
    "\n",
    "The MA component of the SARIMAX model can be used to capture the seasonality in the time series. The MA component can also be used to model the noise in the time series.\n",
    "\n",
    "* **Seasonal autoregressive (SAR)**: The SAR component of the SARIMAX model models the relationship between the current value of the time series and its past seasonal values. The SAR component is represented by the following equation:\n",
    "\n",
    "```\n",
    "y_t = c + ∑ γ_i y_t-si + ε_t\n",
    "```\n",
    "\n",
    "where:\n",
    "\n",
    "* y_t is the current value of the time series\n",
    "* c is a constant\n",
    "* γ_i is the coefficient of the ith past seasonal value of the time series\n",
    "* s is the seasonality of the time series\n",
    "* ε_t is the error term\n",
    "\n",
    "The SAR component of the SARIMAX model can be used to capture the seasonality in the time series. The SAR component can also be used to model the noise in the time series.\n",
    "\n",
    "* **Exogenous regressors (X)**: The X component of the SARIMAX model allows for the inclusion of exogenous variables in the model. Exogenous variables are variables that are not part of the time series itself, but that can have an impact on the time series. For example, the X component could be used to include the weather in a model of daily temperatures.\n",
    "\n",
    "The SARIMAX model is a powerful tool that can be used to forecast future values of a time series. The model is relatively easy to fit and can be used to forecast a wide variety of time series."
   ]
  },
  {
   "cell_type": "markdown",
   "id": "ad8ef0bc",
   "metadata": {},
   "source": [
    "# Transforming Data"
   ]
  },
  {
   "cell_type": "code",
   "execution_count": null,
   "id": "cbdf27a1",
   "metadata": {},
   "outputs": [],
   "source": []
  },
  {
   "cell_type": "code",
   "execution_count": null,
   "id": "d48d4240",
   "metadata": {},
   "outputs": [],
   "source": []
  },
  {
   "cell_type": "code",
   "execution_count": null,
   "id": "fe670b14",
   "metadata": {},
   "outputs": [],
   "source": []
  },
  {
   "cell_type": "code",
   "execution_count": null,
   "id": "5874ff03",
   "metadata": {},
   "outputs": [],
   "source": []
  },
  {
   "cell_type": "code",
   "execution_count": null,
   "id": "8373f92e",
   "metadata": {},
   "outputs": [],
   "source": []
  },
  {
   "cell_type": "code",
   "execution_count": null,
   "id": "8d0be58c",
   "metadata": {},
   "outputs": [],
   "source": []
  },
  {
   "cell_type": "code",
   "execution_count": null,
   "id": "6e389e45",
   "metadata": {},
   "outputs": [],
   "source": []
  },
  {
   "cell_type": "code",
   "execution_count": null,
   "id": "9838f6b9",
   "metadata": {},
   "outputs": [],
   "source": []
  },
  {
   "cell_type": "code",
   "execution_count": null,
   "id": "5e64ca95",
   "metadata": {},
   "outputs": [],
   "source": []
  },
  {
   "cell_type": "code",
   "execution_count": null,
   "id": "d9f147d9",
   "metadata": {},
   "outputs": [],
   "source": []
  },
  {
   "cell_type": "code",
   "execution_count": null,
   "id": "e8ff2130",
   "metadata": {},
   "outputs": [],
   "source": []
  },
  {
   "cell_type": "code",
   "execution_count": null,
   "id": "613d929f",
   "metadata": {},
   "outputs": [],
   "source": []
  },
  {
   "cell_type": "code",
   "execution_count": null,
   "id": "c74cbbf9",
   "metadata": {},
   "outputs": [],
   "source": []
  }
 ],
 "metadata": {
  "kernelspec": {
   "display_name": "Python 3 (ipykernel)",
   "language": "python",
   "name": "python3"
  },
  "language_info": {
   "codemirror_mode": {
    "name": "ipython",
    "version": 3
   },
   "file_extension": ".py",
   "mimetype": "text/x-python",
   "name": "python",
   "nbconvert_exporter": "python",
   "pygments_lexer": "ipython3",
   "version": "3.11.4"
  }
 },
 "nbformat": 4,
 "nbformat_minor": 5
}
