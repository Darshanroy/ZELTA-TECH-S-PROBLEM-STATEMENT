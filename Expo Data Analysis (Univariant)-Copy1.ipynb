{
 "cells": [
  {
   "cell_type": "code",
   "execution_count": 1,
   "id": "e348f17c",
   "metadata": {},
   "outputs": [],
   "source": [
    "import pandas as pd # for basic analysis\n",
    "import numpy as np \n",
    "import matplotlib.pyplot as plt\n",
    "import plotly.express as px"
   ]
  },
  {
   "cell_type": "code",
   "execution_count": 2,
   "id": "d2f2ce23",
   "metadata": {},
   "outputs": [],
   "source": [
    "data_15m = pd.read_csv(\"data folder/KDSH Data/btc_15m.csv\")\n",
    "data_15m['datetime'] = pd.to_datetime(data_15m['datetime'])\n",
    "data_15m.set_index('datetime',inplace=True)\n",
    "stationary_series_data_15m = data_15m.diff().dropna()\n",
    "stationary_series_data_15m.to_csv(\"data folder/stationary_series_data_15m.csv\",index=False)\n",
    "\n",
    "\n",
    "data_3m = pd.read_csv(\"data folder/KDSH Data/btc_3m.csv\")\n",
    "data_3m['datetime'] = pd.to_datetime(data_3m['datetime'])\n",
    "data_3m.set_index('datetime',inplace=True)\n",
    "stationary_series_data_3m = data_3m.diff().dropna()\n",
    "stationary_series_data_3m.to_csv(\"data folder/stationary_series_data_3m.csv\",index=False)\n",
    "\n",
    "\n",
    "\n",
    "data_5m = pd.read_csv(\"data folder/KDSH Data/btc_5m.csv\")\n",
    "data_5m['datetime'] = pd.to_datetime(data_5m['datetime'])\n",
    "data_5m.set_index('datetime',inplace=True)\n",
    "stationary_series_data_5m = data_5m.diff().dropna()\n",
    "stationary_series_data_5m.to_csv(\"data folder/stationary_series_data_5m.csv\",index=False)\n",
    "\n",
    "\n",
    "\n",
    "data_30m = pd.read_csv(\"data folder/KDSH Data/btc_30m.csv\")\n",
    "data_30m['datetime'] = pd.to_datetime(data_30m['datetime'])\n",
    "data_30m.set_index('datetime',inplace=True)\n",
    "stationary_series_data_30m = data_30m.diff().dropna()\n",
    "stationary_series_data_30m.to_csv(\"data folder/stationary_series_data_30m.csv\",index=False)\n",
    "\n",
    "\n",
    "\n",
    "data_1h = pd.read_csv(\"data folder/KDSH Data/btc_1h.csv\")\n",
    "data_1h['datetime'] = pd.to_datetime(data_1h['datetime'])\n",
    "data_1h.set_index('datetime',inplace=True)\n",
    "stationary_series_data_1h = data_1h.diff().dropna()\n",
    "stationary_series_data_1h.to_csv(\"data folder/stationary_series_data_1h.csv\",index=False)\n",
    "\n",
    "\n",
    "\n",
    "data_2h = pd.read_csv(\"data folder/KDSH Data/btc_2h.csv\")\n",
    "data_2h['datetime'] = pd.to_datetime(data_2h['datetime'])\n",
    "data_2h.set_index('datetime',inplace=True)\n",
    "stationary_series_data_2h = data_2h.diff().dropna()\n",
    "stationary_series_data_2h.to_csv(\"data folder/stationary_series_data_2h.csv\",index=False)\n",
    "\n",
    "\n",
    "\n",
    "data_4h = pd.read_csv(\"data folder/KDSH Data/btc_4h.csv\")\n",
    "data_4h['datetime'] = pd.to_datetime(data_4h['datetime'])\n",
    "data_4h.set_index('datetime',inplace=True)\n",
    "stationary_series_data_4h = data_4h.diff().dropna()\n",
    "stationary_series_data_4h.to_csv(\"data folder/stationary_series_data_4h.csv\",index=False)\n",
    "\n",
    "\n",
    "\n",
    "data_6h = pd.read_csv(\"data folder/KDSH Data/btc_6h.csv\")\n",
    "data_6h['datetime'] = pd.to_datetime(data_6h['datetime'])\n",
    "data_6h.set_index('datetime',inplace=True)\n",
    "stationary_series_data_6h = data_6h.diff().dropna()\n",
    "stationary_series_data_6h.to_csv(\"data folder/stationary_series_data_6h.csv\",index=False)"
   ]
  },
  {
   "cell_type": "markdown",
   "id": "d18fddd6",
   "metadata": {},
   "source": [
    "# Train Test Split"
   ]
  },
  {
   "cell_type": "code",
   "execution_count": 4,
   "id": "96cd224b",
   "metadata": {},
   "outputs": [],
   "source": [
    "# Determine the sizes for train, validation, and test sets\n",
    "train_size = int(0.6 * len(stationary_series_data_3m))  # 60% for training\n",
    "val_size = int(0.2 * len(stationary_series_data_3m))    # 20% for validation\n",
    "test_size = len(stationary_series_data_3m) - train_size - val_size  # Remaining for testing\n",
    "\n",
    "# Split the data into train, validation, and test sets\n",
    "train_data = stationary_series_data_3m[:train_size]\n",
    "val_data = stationary_series_data_3m[train_size:train_size + val_size]\n",
    "test_data = stationary_series_data_3m[train_size + val_size:]"
   ]
  },
  {
   "cell_type": "markdown",
   "id": "bc8a53b0",
   "metadata": {},
   "source": [
    "# Model Development?"
   ]
  },
  {
   "cell_type": "code",
   "execution_count": 22,
   "id": "2d25fe89",
   "metadata": {},
   "outputs": [],
   "source": [
    "df = stationary_series_data_6h[['open', 'high', 'low', 'close']].copy()"
   ]
  },
  {
   "cell_type": "code",
   "execution_count": 23,
   "id": "1e6e754d",
   "metadata": {},
   "outputs": [
    {
     "data": {
      "text/plain": [
       "Index(['open', 'high', 'low', 'close', 'volume'], dtype='object')"
      ]
     },
     "execution_count": 23,
     "metadata": {},
     "output_type": "execute_result"
    }
   ],
   "source": [
    "stationary_series_data_6h.columns"
   ]
  },
  {
   "cell_type": "code",
   "execution_count": 27,
   "id": "005bba1f",
   "metadata": {
    "scrolled": false
   },
   "outputs": [
    {
     "name": "stdout",
     "output_type": "stream",
     "text": [
      "RMSE for open: 922.6805913965397\n",
      "RMSE for high: 804.0200107738832\n",
      "RMSE for low: 1042.643098883921\n",
      "RMSE for close: 922.5139451452105\n"
     ]
    },
    {
     "name": "stderr",
     "output_type": "stream",
     "text": [
      "C:\\Users\\91845\\AppData\\Local\\Programs\\Python\\Python311\\Lib\\site-packages\\statsmodels\\tsa\\base\\tsa_model.py:473: ValueWarning: A date index has been provided, but it has no associated frequency information and so will be ignored when e.g. forecasting.\n",
      "  self._init_dates(dates, freq)\n"
     ]
    }
   ],
   "source": [
    "import pandas as pd\n",
    "from statsmodels.tsa.api import VAR\n",
    "from statsmodels.tsa.stattools import adfuller\n",
    "from statsmodels.tools.eval_measures import rmse\n",
    "\n",
    "# Load your multivariate time series data into a pandas DataFrame\n",
    "# For example, assume you have two time series 'ts1' and 'ts2'\n",
    "# df = pd.DataFrame({'ts1': ts1_values, 'ts2': ts2_values, ...})\n",
    "\n",
    "# Ensure your data is in datetime format and is stationary\n",
    "# Check stationarity and apply differencing if needed\n",
    "def check_stationarity(series):\n",
    "    result = adfuller(series)\n",
    "    if result[1] > 0.05:\n",
    "        return False\n",
    "    else:\n",
    "        return True\n",
    "\n",
    "# Assuming your time series data is in DataFrame 'df'\n",
    "for column in df.columns:\n",
    "    if not check_stationarity(df[column]):\n",
    "        df[column] = df[column].diff().dropna()\n",
    "\n",
    "# Split the data into train and test sets\n",
    "train_size = int(len(df) * 0.8)\n",
    "train, test = df[:train_size], df[train_size:]\n",
    "\n",
    "# Fit the VAR model\n",
    "model = VAR(train)\n",
    "order = 1  # Change the order based on your data and model performance\n",
    "fitted_model = model.fit(order)\n",
    "\n",
    "# Forecast\n",
    "forecast = fitted_model.forecast(train.values, steps=len(test))\n",
    "\n",
    "# Convert the forecast results to a DataFrame\n",
    "forecast_df = pd.DataFrame(forecast, index=test.index, columns=test.columns)\n",
    "\n",
    "# Evaluate the model (for example, using RMSE)\n",
    "for col in df.columns:\n",
    "    print(f\"RMSE for {col}: {rmse(test[col], forecast_df[col])}\")\n"
   ]
  },
  {
   "cell_type": "code",
   "execution_count": 29,
   "id": "88e670ac",
   "metadata": {},
   "outputs": [
    {
     "data": {
      "text/html": [
       "<div>\n",
       "<style scoped>\n",
       "    .dataframe tbody tr th:only-of-type {\n",
       "        vertical-align: middle;\n",
       "    }\n",
       "\n",
       "    .dataframe tbody tr th {\n",
       "        vertical-align: top;\n",
       "    }\n",
       "\n",
       "    .dataframe thead th {\n",
       "        text-align: right;\n",
       "    }\n",
       "</style>\n",
       "<table border=\"1\" class=\"dataframe\">\n",
       "  <thead>\n",
       "    <tr style=\"text-align: right;\">\n",
       "      <th></th>\n",
       "      <th>open</th>\n",
       "      <th>high</th>\n",
       "      <th>low</th>\n",
       "      <th>close</th>\n",
       "    </tr>\n",
       "    <tr>\n",
       "      <th>datetime</th>\n",
       "      <th></th>\n",
       "      <th></th>\n",
       "      <th></th>\n",
       "      <th></th>\n",
       "    </tr>\n",
       "  </thead>\n",
       "  <tbody>\n",
       "    <tr>\n",
       "      <th>2021-04-08 11:30:00</th>\n",
       "      <td>918.551015</td>\n",
       "      <td>383.252846</td>\n",
       "      <td>570.149425</td>\n",
       "      <td>42.031147</td>\n",
       "    </tr>\n",
       "    <tr>\n",
       "      <th>2021-04-08 17:30:00</th>\n",
       "      <td>42.085817</td>\n",
       "      <td>55.772521</td>\n",
       "      <td>-48.387234</td>\n",
       "      <td>5.624613</td>\n",
       "    </tr>\n",
       "    <tr>\n",
       "      <th>2021-04-08 23:30:00</th>\n",
       "      <td>5.665183</td>\n",
       "      <td>-3.885375</td>\n",
       "      <td>43.728466</td>\n",
       "      <td>14.096472</td>\n",
       "    </tr>\n",
       "    <tr>\n",
       "      <th>2021-04-09 05:30:00</th>\n",
       "      <td>14.084993</td>\n",
       "      <td>16.269472</td>\n",
       "      <td>-5.904113</td>\n",
       "      <td>7.110148</td>\n",
       "    </tr>\n",
       "    <tr>\n",
       "      <th>2021-04-09 11:30:00</th>\n",
       "      <td>7.122328</td>\n",
       "      <td>6.420867</td>\n",
       "      <td>16.506541</td>\n",
       "      <td>10.094751</td>\n",
       "    </tr>\n",
       "    <tr>\n",
       "      <th>...</th>\n",
       "      <td>...</td>\n",
       "      <td>...</td>\n",
       "      <td>...</td>\n",
       "      <td>...</td>\n",
       "    </tr>\n",
       "    <tr>\n",
       "      <th>2022-01-30 05:30:00</th>\n",
       "      <td>9.169708</td>\n",
       "      <td>9.225102</td>\n",
       "      <td>9.113710</td>\n",
       "      <td>9.165461</td>\n",
       "    </tr>\n",
       "    <tr>\n",
       "      <th>2022-01-30 11:30:00</th>\n",
       "      <td>9.169708</td>\n",
       "      <td>9.225102</td>\n",
       "      <td>9.113710</td>\n",
       "      <td>9.165461</td>\n",
       "    </tr>\n",
       "    <tr>\n",
       "      <th>2022-01-30 17:30:00</th>\n",
       "      <td>9.169708</td>\n",
       "      <td>9.225102</td>\n",
       "      <td>9.113710</td>\n",
       "      <td>9.165461</td>\n",
       "    </tr>\n",
       "    <tr>\n",
       "      <th>2022-01-30 23:30:00</th>\n",
       "      <td>9.169708</td>\n",
       "      <td>9.225102</td>\n",
       "      <td>9.113710</td>\n",
       "      <td>9.165461</td>\n",
       "    </tr>\n",
       "    <tr>\n",
       "      <th>2022-01-31 05:30:00</th>\n",
       "      <td>9.169708</td>\n",
       "      <td>9.225102</td>\n",
       "      <td>9.113710</td>\n",
       "      <td>9.165461</td>\n",
       "    </tr>\n",
       "  </tbody>\n",
       "</table>\n",
       "<p>1192 rows × 4 columns</p>\n",
       "</div>"
      ],
      "text/plain": [
       "                           open        high         low      close\n",
       "datetime                                                          \n",
       "2021-04-08 11:30:00  918.551015  383.252846  570.149425  42.031147\n",
       "2021-04-08 17:30:00   42.085817   55.772521  -48.387234   5.624613\n",
       "2021-04-08 23:30:00    5.665183   -3.885375   43.728466  14.096472\n",
       "2021-04-09 05:30:00   14.084993   16.269472   -5.904113   7.110148\n",
       "2021-04-09 11:30:00    7.122328    6.420867   16.506541  10.094751\n",
       "...                         ...         ...         ...        ...\n",
       "2022-01-30 05:30:00    9.169708    9.225102    9.113710   9.165461\n",
       "2022-01-30 11:30:00    9.169708    9.225102    9.113710   9.165461\n",
       "2022-01-30 17:30:00    9.169708    9.225102    9.113710   9.165461\n",
       "2022-01-30 23:30:00    9.169708    9.225102    9.113710   9.165461\n",
       "2022-01-31 05:30:00    9.169708    9.225102    9.113710   9.165461\n",
       "\n",
       "[1192 rows x 4 columns]"
      ]
     },
     "execution_count": 29,
     "metadata": {},
     "output_type": "execute_result"
    }
   ],
   "source": [
    "forecast_df"
   ]
  },
  {
   "cell_type": "markdown",
   "id": "4a4bf99f",
   "metadata": {},
   "source": [
    "# Moving avgs"
   ]
  },
  {
   "cell_type": "code",
   "execution_count": 32,
   "id": "f4a4914a",
   "metadata": {
    "scrolled": false
   },
   "outputs": [
    {
     "data": {
      "text/html": [
       "<div>\n",
       "<style scoped>\n",
       "    .dataframe tbody tr th:only-of-type {\n",
       "        vertical-align: middle;\n",
       "    }\n",
       "\n",
       "    .dataframe tbody tr th {\n",
       "        vertical-align: top;\n",
       "    }\n",
       "\n",
       "    .dataframe thead th {\n",
       "        text-align: right;\n",
       "    }\n",
       "</style>\n",
       "<table border=\"1\" class=\"dataframe\">\n",
       "  <thead>\n",
       "    <tr style=\"text-align: right;\">\n",
       "      <th></th>\n",
       "      <th>open</th>\n",
       "      <th>high</th>\n",
       "      <th>low</th>\n",
       "      <th>close</th>\n",
       "      <th>FMA</th>\n",
       "      <th>SMA</th>\n",
       "    </tr>\n",
       "    <tr>\n",
       "      <th>datetime</th>\n",
       "      <th></th>\n",
       "      <th></th>\n",
       "      <th></th>\n",
       "      <th></th>\n",
       "      <th></th>\n",
       "      <th></th>\n",
       "    </tr>\n",
       "  </thead>\n",
       "  <tbody>\n",
       "    <tr>\n",
       "      <th>2021-04-08 11:30:00</th>\n",
       "      <td>918.551015</td>\n",
       "      <td>383.252846</td>\n",
       "      <td>570.149425</td>\n",
       "      <td>42.031147</td>\n",
       "      <td>918.551015</td>\n",
       "      <td>918.551015</td>\n",
       "    </tr>\n",
       "    <tr>\n",
       "      <th>2021-04-08 17:30:00</th>\n",
       "      <td>42.085817</td>\n",
       "      <td>55.772521</td>\n",
       "      <td>-48.387234</td>\n",
       "      <td>5.624613</td>\n",
       "      <td>480.318416</td>\n",
       "      <td>480.318416</td>\n",
       "    </tr>\n",
       "    <tr>\n",
       "      <th>2021-04-08 23:30:00</th>\n",
       "      <td>5.665183</td>\n",
       "      <td>-3.885375</td>\n",
       "      <td>43.728466</td>\n",
       "      <td>14.096472</td>\n",
       "      <td>322.100672</td>\n",
       "      <td>322.100672</td>\n",
       "    </tr>\n",
       "    <tr>\n",
       "      <th>2021-04-09 05:30:00</th>\n",
       "      <td>14.084993</td>\n",
       "      <td>16.269472</td>\n",
       "      <td>-5.904113</td>\n",
       "      <td>7.110148</td>\n",
       "      <td>245.096752</td>\n",
       "      <td>245.096752</td>\n",
       "    </tr>\n",
       "    <tr>\n",
       "      <th>2021-04-09 11:30:00</th>\n",
       "      <td>7.122328</td>\n",
       "      <td>6.420867</td>\n",
       "      <td>16.506541</td>\n",
       "      <td>10.094751</td>\n",
       "      <td>197.501867</td>\n",
       "      <td>197.501867</td>\n",
       "    </tr>\n",
       "  </tbody>\n",
       "</table>\n",
       "</div>"
      ],
      "text/plain": [
       "                           open        high         low      close  \\\n",
       "datetime                                                             \n",
       "2021-04-08 11:30:00  918.551015  383.252846  570.149425  42.031147   \n",
       "2021-04-08 17:30:00   42.085817   55.772521  -48.387234   5.624613   \n",
       "2021-04-08 23:30:00    5.665183   -3.885375   43.728466  14.096472   \n",
       "2021-04-09 05:30:00   14.084993   16.269472   -5.904113   7.110148   \n",
       "2021-04-09 11:30:00    7.122328    6.420867   16.506541  10.094751   \n",
       "\n",
       "                            FMA         SMA  \n",
       "datetime                                     \n",
       "2021-04-08 11:30:00  918.551015  918.551015  \n",
       "2021-04-08 17:30:00  480.318416  480.318416  \n",
       "2021-04-08 23:30:00  322.100672  322.100672  \n",
       "2021-04-09 05:30:00  245.096752  245.096752  \n",
       "2021-04-09 11:30:00  197.501867  197.501867  "
      ]
     },
     "execution_count": 32,
     "metadata": {},
     "output_type": "execute_result"
    }
   ],
   "source": [
    "import pandas as pd\n",
    "\n",
    "# Assuming you have a DataFrame 'data' with a column 'values' representing your time series data\n",
    "# Replace 'values' with the actual column name containing your time series data\n",
    "\n",
    "# Calculate fast moving average (FMA)\n",
    "fast_window = 10  # Define the window size for fast moving average\n",
    "forecast_df['FMA'] = forecast_df['open'].rolling(window=fast_window, min_periods=1).mean()\n",
    "\n",
    "# Calculate slow moving average (SMA)\n",
    "slow_window = 50  # Define the window size for slow moving average\n",
    "forecast_df['SMA'] = forecast_df['open'].rolling(window=slow_window, min_periods=1).mean()\n",
    "\n",
    "# Print the DataFrame with FMA and SMA\n",
    "forecast_df.head()\n"
   ]
  },
  {
   "cell_type": "code",
   "execution_count": 43,
   "id": "7dbb05a9",
   "metadata": {},
   "outputs": [
    {
     "data": {
      "text/plain": [
       "0      2021-04-08 11:30:00\n",
       "1      2021-04-08 17:30:00\n",
       "2      2021-04-08 23:30:00\n",
       "3      2021-04-09 05:30:00\n",
       "4      2021-04-09 11:30:00\n",
       "               ...        \n",
       "1187   2022-01-30 05:30:00\n",
       "1188   2022-01-30 11:30:00\n",
       "1189   2022-01-30 17:30:00\n",
       "1190   2022-01-30 23:30:00\n",
       "1191   2022-01-31 05:30:00\n",
       "Name: datetime, Length: 1192, dtype: datetime64[ns]"
      ]
     },
     "execution_count": 43,
     "metadata": {},
     "output_type": "execute_result"
    }
   ],
   "source": [
    "forecast_df.reset_index()['datetime']"
   ]
  },
  {
   "cell_type": "code",
   "execution_count": 44,
   "id": "30d671b7",
   "metadata": {},
   "outputs": [
    {
     "data": {
      "image/png": "[encoded data removed]",
      "text/plain": [
       "<Figure size 1000x600 with 1 Axes>"
      ]
     },
     "metadata": {},
     "output_type": "display_data"
    }
   ],
   "source": [
    "# Plotting\n",
    "plt.figure(figsize=(10, 6))\n",
    "plt.plot(forecast_df.reset_index()['datetime'], test['open'], label='Open Price', color='blue')\n",
    "plt.plot(data['datetime'], data['FMA'], label='Fast Moving Average', color='orange')\n",
    "plt.plot(data['datetime'], data['SMA'], label='Slow Moving Average', color='green')\n",
    "\n",
    "plt.title('Open Price with Fast and Slow Moving Averages')\n",
    "plt.xlabel('Date')\n",
    "plt.ylabel('Price')\n",
    "plt.legend()\n",
    "plt.grid(True)\n",
    "plt.show()"
   ]
  },
  {
   "cell_type": "code",
   "execution_count": null,
   "id": "9773f478",
   "metadata": {},
   "outputs": [],
   "source": []
  },
  {
   "cell_type": "code",
   "execution_count": null,
   "id": "ac57edf9",
   "metadata": {},
   "outputs": [],
   "source": []
  },
  {
   "cell_type": "code",
   "execution_count": null,
   "id": "ac4e0b80",
   "metadata": {},
   "outputs": [],
   "source": []
  },
  {
   "cell_type": "code",
   "execution_count": null,
   "id": "968d9c8d",
   "metadata": {},
   "outputs": [],
   "source": []
  },
  {
   "cell_type": "code",
   "execution_count": null,
   "id": "2da917eb",
   "metadata": {},
   "outputs": [],
   "source": []
  },
  {
   "cell_type": "code",
   "execution_count": null,
   "id": "b7216b57",
   "metadata": {},
   "outputs": [],
   "source": []
  },
  {
   "cell_type": "code",
   "execution_count": null,
   "id": "e8d1fe71",
   "metadata": {},
   "outputs": [],
   "source": []
  },
  {
   "cell_type": "code",
   "execution_count": null,
   "id": "a38b7c48",
   "metadata": {},
   "outputs": [],
   "source": []
  },
  {
   "cell_type": "code",
   "execution_count": null,
   "id": "c48e62bb",
   "metadata": {},
   "outputs": [],
   "source": []
  },
  {
   "cell_type": "code",
   "execution_count": null,
   "id": "7f19f529",
   "metadata": {},
   "outputs": [],
   "source": []
  },
  {
   "cell_type": "code",
   "execution_count": null,
   "id": "9e83bdb7",
   "metadata": {},
   "outputs": [],
   "source": []
  },
  {
   "cell_type": "code",
   "execution_count": null,
   "id": "08bd8a0e",
   "metadata": {},
   "outputs": [],
   "source": []
  },
  {
   "cell_type": "code",
   "execution_count": null,
   "id": "f41ffafc",
   "metadata": {},
   "outputs": [],
   "source": []
  },
  {
   "cell_type": "code",
   "execution_count": null,
   "id": "191978c3",
   "metadata": {},
   "outputs": [],
   "source": []
  },
  {
   "cell_type": "code",
   "execution_count": null,
   "id": "fa1448a1",
   "metadata": {},
   "outputs": [],
   "source": []
  },
  {
   "cell_type": "code",
   "execution_count": null,
   "id": "d5395e0d",
   "metadata": {},
   "outputs": [],
   "source": []
  },
  {
   "cell_type": "code",
   "execution_count": null,
   "id": "1b7b13cf",
   "metadata": {},
   "outputs": [],
   "source": []
  },
  {
   "cell_type": "code",
   "execution_count": 27,
   "id": "5c0dab8e",
   "metadata": {},
   "outputs": [
    {
     "name": "stdout",
     "output_type": "stream",
     "text": [
      "Original Series:\n",
      "datetime\n",
      "2018-01-01 05:30:00    13715.65\n",
      "2018-01-01 05:45:00    13533.75\n",
      "2018-01-01 06:00:00    13500.00\n",
      "2018-01-01 06:15:00    13494.65\n",
      "2018-01-01 06:30:00    13528.99\n",
      "                         ...   \n",
      "2022-01-31 04:30:00    37785.78\n",
      "2022-01-31 04:45:00    38183.75\n",
      "2022-01-31 05:00:00    38060.24\n",
      "2022-01-31 05:15:00    37959.87\n",
      "2022-01-31 05:30:00    37881.75\n",
      "Name: open, Length: 142610, dtype: float64\n",
      "\n",
      "Predicted Values after Inverse Differencing:\n",
      "datetime\n",
      "2018-01-01 05:45:00    13533.75\n",
      "2018-01-01 06:00:00    13500.00\n",
      "2018-01-01 06:15:00    13494.65\n",
      "2018-01-01 06:30:00    13528.99\n",
      "2018-01-01 06:45:00    13469.99\n",
      "                         ...   \n",
      "2022-01-31 04:30:00    37785.78\n",
      "2022-01-31 04:45:00    38183.75\n",
      "2022-01-31 05:00:00    38060.24\n",
      "2022-01-31 05:15:00    37959.87\n",
      "2022-01-31 05:30:00    37881.75\n",
      "Name: open, Length: 142609, dtype: float64\n"
     ]
    }
   ],
   "source": [
    "import numpy as np\n",
    "import pandas as pd\n",
    "\n",
    "# Example data (replace this with your actual data)\n",
    "original_series = data_15m['open'].copy()\n",
    "stationary_series = original_series.diff().dropna()  # Differencing to make it stationary\n",
    "\n",
    "# Assume you made predictions on the stationary series\n",
    "# Example predictions on the stationary data (replace this with your predictions)\n",
    "# Here, for illustration, we'll just use the stationary series itself as predictions\n",
    "stationary_predictions = stationary_series.copy()\n",
    "\n",
    "# Calculate the cumulative sum of the predicted differences\n",
    "predicted_original = np.cumsum(stationary_predictions)\n",
    "\n",
    "# Add the first value of the original series to the cumulative sum\n",
    "predicted_original = original_series.iloc[0] + predicted_original\n",
    "\n",
    "# Display the original series and predicted values after inverse differencing\n",
    "print(\"Original Series:\")\n",
    "print(original_series)\n",
    "\n",
    "print(\"\\nPredicted Values after Inverse Differencing:\")\n",
    "print(pd.Series(predicted_original, index=stationary_series.index))\n"
   ]
  },
  {
   "cell_type": "code",
   "execution_count": null,
   "id": "5333b9bb",
   "metadata": {},
   "outputs": [],
   "source": []
  },
  {
   "cell_type": "code",
   "execution_count": null,
   "id": "aebc7662",
   "metadata": {},
   "outputs": [],
   "source": []
  },
  {
   "cell_type": "code",
   "execution_count": null,
   "id": "dd5f6f41",
   "metadata": {},
   "outputs": [],
   "source": []
  },
  {
   "cell_type": "code",
   "execution_count": null,
   "id": "57990d71",
   "metadata": {},
   "outputs": [],
   "source": []
  },
  {
   "cell_type": "code",
   "execution_count": null,
   "id": "677e20f2",
   "metadata": {},
   "outputs": [],
   "source": []
  }
 ],
 "metadata": {
  "kernelspec": {
   "display_name": "Python 3 (ipykernel)",
   "language": "python",
   "name": "python3"
  },
  "language_info": {
   "codemirror_mode": {
    "name": "ipython",
    "version": 3
   },
   "file_extension": ".py",
   "mimetype": "text/x-python",
   "name": "python",
   "nbconvert_exporter": "python",
   "pygments_lexer": "ipython3",
   "version": "3.11.4"
  }
 },
 "nbformat": 4,
 "nbformat_minor": 5
}
